{
 "cells": [
  {
   "cell_type": "code",
   "execution_count": 2,
   "metadata": {},
   "outputs": [
    {
     "name": "stdout",
     "output_type": "stream",
     "text": [
      "dict_keys(['meta', 'state_dict', 'optimizer'])\n",
      "dict_keys(['mmdet_version', 'CLASSES', 'env_info', 'config', 'seed', 'exp_name', 'epoch', 'iter', 'mmcv_version', 'time', 'hook_msgs'])\n",
      "Successfully save the model\n"
     ]
    }
   ],
   "source": [
    "# mmdet 2.11.0 默认保存的checkpoint 是在GPU上的，现在转存到CPU上\n",
    "import torch\n",
    "target_model_path = '/data/GitHub/mmdetection/minimodel/retinanet_r101_fpn_2x_20coco/epoch_24.pth'\n",
    "device = torch.device('cpu')\n",
    "model = torch.load(target_model_path, map_location=device)\n",
    "print(model.keys())\n",
    "print(model['meta'].keys())\n",
    "\n",
    "# save(cpu)\n",
    "output_model = '/data/GitHub/mmdetection/minimodel/tea_retinanet_101_mini10.pth'\n",
    "torch.save(model, output_model)\n",
    "\n",
    "print('Successfully save the model')"
   ]
  },
  {
   "cell_type": "code",
   "execution_count": 3,
   "metadata": {},
   "outputs": [
    {
     "name": "stdout",
     "output_type": "stream",
     "text": [
      "dict_keys(['meta', 'state_dict', 'optimizer'])\n",
      "dict_keys(['mmdet_version', 'CLASSES', 'env_info', 'config', 'seed', 'exp_name', 'epoch', 'iter', 'mmcv_version', 'time', 'hook_msgs'])\n"
     ]
    }
   ],
   "source": [
    "model2 = torch.load(output_model)  # error cpu\n",
    "# dict_keys(['meta', 'state_dict', 'optimizer'])\n",
    "print(model2.keys())\n",
    "print(model2['meta'].keys())"
   ]
  },
  {
   "cell_type": "code",
   "execution_count": 10,
   "metadata": {},
   "outputs": [],
   "source": [
    "import torch  # 命令行是逐行立即执行的\n",
    "teacher_model_path20 = '/data/GitHub/mmdetection/minimodel/retinanet_r101_fpn_2x_20coco/epoch_24.pth'\n",
    "teacher_model_path='/data/GitHub/mmdetection/model/retinanet_r101_fpn_2x_coco_20200131-5560aee8.pth'"
   ]
  },
  {
   "cell_type": "code",
   "execution_count": 2,
   "metadata": {},
   "outputs": [
    {
     "name": "stdout",
     "output_type": "stream",
     "text": [
      "dict_keys(['meta', 'state_dict'])\n",
      "dict_keys(['mmdet_version', 'config', 'CLASSES', 'epoch', 'iter', 'mmcv_version', 'time'])\n",
      "dict_keys(['meta', 'state_dict', 'optimizer'])\n",
      "dict_keys(['mmdet_version', 'CLASSES', 'env_info', 'config', 'seed', 'exp_name', 'epoch', 'iter', 'mmcv_version', 'time', 'hook_msgs'])\n"
     ]
    }
   ],
   "source": [
    "\n",
    "content = torch.load(teacher_model_path)\n",
    "print(content.keys())   # dict_keys(['meta', 'state_dict'])\n",
    "print(content['meta'].keys())\n",
    "\n",
    "# cpu error\n",
    "# content1 = torch.load(teacher_model_path20)  # error cpu\n",
    "# # dict_keys(['meta', 'state_dict', 'optimizer'])\n",
    "# print(content1.keys())\n",
    "\n",
    "device = torch.device('cpu')\n",
    "content1 = torch.load(teacher_model_path20, map_location=device)\n",
    "print(content1.keys())\n",
    "print(content1['meta'].keys())"
   ]
  },
  {
   "cell_type": "code",
   "execution_count": 4,
   "metadata": {},
   "outputs": [
    {
     "data": {
      "text/plain": [
       "'sys.platform: linux\\nPython: 3.7.11 (default, Jul 27 2021, 14:32:16) [GCC 7.5.0]\\nCUDA available: True\\nGPU 0,1,2,3,4,5,6,7: GeForce RTX 2080 Ti\\nCUDA_HOME: /data/cuda/cuda-10.1/cuda\\nNVCC: Cuda compilation tools, release 10.1, V10.1.243\\nGCC: gcc (Ubuntu 7.5.0-3ubuntu1~18.04) 7.5.0\\nPyTorch: 1.7.1+cu101\\nPyTorch compiling details: PyTorch built with:\\n  - GCC 7.3\\n  - C++ Version: 201402\\n  - Intel(R) Math Kernel Library Version 2020.0.0 Product Build 20191122 for Intel(R) 64 architecture applications\\n  - Intel(R) MKL-DNN v1.6.0 (Git Hash 5ef631a030a6f73131c77892041042805a06064f)\\n  - OpenMP 201511 (a.k.a. OpenMP 4.5)\\n  - NNPACK is enabled\\n  - CPU capability usage: AVX2\\n  - CUDA Runtime 10.1\\n  - NVCC architecture flags: -gencode;arch=compute_37,code=sm_37;-gencode;arch=compute_50,code=sm_50;-gencode;arch=compute_60,code=sm_60;-gencode;arch=compute_70,code=sm_70;-gencode;arch=compute_75,code=sm_75\\n  - CuDNN 7.6.3\\n  - Magma 2.5.2\\n  - Build settings: BLAS=MKL, BUILD_TYPE=Release, CXX_FLAGS= -Wno-deprecated -fvisibility-inlines-hidden -DUSE_PTHREADPOOL -fopenmp -DNDEBUG -DUSE_FBGEMM -DUSE_QNNPACK -DUSE_PYTORCH_QNNPACK -DUSE_XNNPACK -DUSE_VULKAN_WRAPPER -O2 -fPIC -Wno-narrowing -Wall -Wextra -Werror=return-type -Wno-missing-field-initializers -Wno-type-limits -Wno-array-bounds -Wno-unknown-pragmas -Wno-sign-compare -Wno-unused-parameter -Wno-unused-variable -Wno-unused-function -Wno-unused-result -Wno-unused-local-typedefs -Wno-strict-overflow -Wno-strict-aliasing -Wno-error=deprecated-declarations -Wno-stringop-overflow -Wno-psabi -Wno-error=pedantic -Wno-error=redundant-decls -Wno-error=old-style-cast -fdiagnostics-color=always -faligned-new -Wno-unused-but-set-variable -Wno-maybe-uninitialized -fno-math-errno -fno-trapping-math -Werror=format -Wno-stringop-overflow, PERF_WITH_AVX=1, PERF_WITH_AVX2=1, PERF_WITH_AVX512=1, USE_CUDA=ON, USE_EXCEPTION_PTR=1, USE_GFLAGS=OFF, USE_GLOG=OFF, USE_MKL=ON, USE_MKLDNN=ON, USE_MPI=OFF, USE_NCCL=ON, USE_NNPACK=ON, USE_OPENMP=ON, \\n\\nTorchVision: 0.8.2+cu101\\nOpenCV: 4.5.4\\nMMCV: 1.4.1\\nMMCV Compiler: GCC 7.3\\nMMCV CUDA Compiler: 10.1\\nMMDetection: 2.11.0+2894516'"
      ]
     },
     "execution_count": 4,
     "metadata": {},
     "output_type": "execute_result"
    }
   ],
   "source": [
    "content1['meta']['env_info']"
   ]
  },
  {
   "cell_type": "code",
   "execution_count": 7,
   "metadata": {},
   "outputs": [
    {
     "name": "stdout",
     "output_type": "stream",
     "text": [
      "retinanet_r101_fpn_2x_20coco.py\n"
     ]
    },
    {
     "data": {
      "text/plain": [
       "{'last_ckpt': '/data/GitHub/mmdetection/minimodel/retinanet_r101_fpn_2x_20coco/epoch_23.pth'}"
      ]
     },
     "execution_count": 7,
     "metadata": {},
     "output_type": "execute_result"
    }
   ],
   "source": [
    "print(content1['meta']['exp_name'])\n",
    "content1['meta']['hook_msgs']"
   ]
  },
  {
   "cell_type": "code",
   "execution_count": 8,
   "metadata": {},
   "outputs": [],
   "source": [
    "# save(cpu)\n",
    "output_model = '/data/GitHub/mmdetection/minimodel/tea_retinanet_101.pth'\n",
    "torch.save(content1, output_model)"
   ]
  },
  {
   "cell_type": "code",
   "execution_count": 9,
   "metadata": {},
   "outputs": [
    {
     "name": "stdout",
     "output_type": "stream",
     "text": [
      "dict_keys(['meta', 'state_dict', 'optimizer'])\n"
     ]
    }
   ],
   "source": [
    "# cpu error\n",
    "content2 = torch.load(output_model)  # error cpu\n",
    "# dict_keys(['meta', 'state_dict', 'optimizer'])\n",
    "print(content2.keys())"
   ]
  }
 ],
 "metadata": {
  "interpreter": {
   "hash": "2ab283f22b1822ba533c58c44cd74f8abd454f2142fe09d8a167cea2c0933eb0"
  },
  "kernelspec": {
   "display_name": "Python 3.7.11 64-bit ('mmdet': conda)",
   "language": "python",
   "name": "python3"
  },
  "language_info": {
   "codemirror_mode": {
    "name": "ipython",
    "version": 3
   },
   "file_extension": ".py",
   "mimetype": "text/x-python",
   "name": "python",
   "nbconvert_exporter": "python",
   "pygments_lexer": "ipython3",
   "version": "3.7.11"
  },
  "orig_nbformat": 4
 },
 "nbformat": 4,
 "nbformat_minor": 2
}
